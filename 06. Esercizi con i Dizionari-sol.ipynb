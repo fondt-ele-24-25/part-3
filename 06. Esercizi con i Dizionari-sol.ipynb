{
 "cells": [
  {
   "cell_type": "markdown",
   "metadata": {
    "slideshow": {
     "slide_type": "slide"
    }
   },
   "source": [
    "# Esercizi con i Dizionari"
   ]
  },
  {
   "cell_type": "markdown",
   "metadata": {
    "slideshow": {
     "slide_type": "subslide"
    }
   },
   "source": [
    "## Esercizi con i Dizionari\n",
    "\n",
    "**Definire un dizionario con i campi:**\n",
    "\n",
    "* nome, con valore \"Mario\"\n",
    "* occupazione, con valore \"idraulico\"\n",
    "* età, con valore `39`\n",
    "\n",
    "Stampare a video i valori, in modo che la stringa visualizzata sia:\n",
    "\n",
    "```\n",
    "nome: Mario, occupazione: idraulico, età: 39\n",
    "```"
   ]
  },
  {
   "cell_type": "code",
   "execution_count": 1,
   "metadata": {},
   "outputs": [
    {
     "name": "stdout",
     "output_type": "stream",
     "text": [
      "nome: Mario, occupazione: idraulico, età: 39\n"
     ]
    }
   ],
   "source": [
    "d = {'nome': 'Mario', 'occupazione': 'idraulico', 'età': 39}\n",
    "print(f'nome: {d[\"nome\"]}, occupazione: {d[\"occupazione\"]}, età: {d[\"età\"]}')"
   ]
  },
  {
   "cell_type": "markdown",
   "metadata": {
    "slideshow": {
     "slide_type": "subslide"
    }
   },
   "source": [
    "## Esercizi con i Dizionari\n",
    "\n",
    "**Un dizionario `voti` contiene i risultati ottenuti ad un esame da degli studenti**\n",
    "\n",
    "* Si assuma che, dopo una nuova prova, si rendano disponibili nuovi risultati\n",
    "* Questi sono memorizzati in un nuovo dizionario `nuovi_voti`\n",
    "* Si aggiorni il valore di `voti` in modo da includere i nuovi risultati\n",
    "* In caso di più voti per lo stesso studente, è valido il risultato più recente "
   ]
  },
  {
   "cell_type": "code",
   "execution_count": 2,
   "metadata": {},
   "outputs": [
    {
     "name": "stdout",
     "output_type": "stream",
     "text": [
      "{'Gigi': 28, 'Luisa': 30, 'Pino': 19, 'Gina': 30}\n"
     ]
    }
   ],
   "source": [
    "voti = {'Gigi': 23, 'Luisa': 29, 'Pino': 19, 'Gina': 30}\n",
    "nuovi_voti = {'Gigi': 28, 'Luisa': 30}\n",
    "voti |= nuovi_voti\n",
    "print(voti)"
   ]
  },
  {
   "cell_type": "markdown",
   "metadata": {
    "slideshow": {
     "slide_type": "subslide"
    }
   },
   "source": [
    "## Esercizi con i Dizionari\n",
    "\n",
    "**Costruire un dizionario come segue:**\n",
    "\n",
    "* Ogni chiave deve essere un numero intero corrispondente al numero di giorni in un dato mese\n",
    "* Ogni valore deve essere una lista di mesi, aventi tale numero di giorni\n",
    "  - Si codifichino i mesi come interi (Gennaio = 1 e così via)\n",
    "  - Si assuma che Febbraio abbia 28 giorni\n",
    "\n",
    "Si stampi a video il dizionario"
   ]
  },
  {
   "cell_type": "code",
   "execution_count": 3,
   "metadata": {},
   "outputs": [
    {
     "name": "stdout",
     "output_type": "stream",
     "text": [
      "{28: [2], 30: [11, 4, 6, 9], 31: [1, 3, 5, 7, 8, 10, 12]}\n"
     ]
    }
   ],
   "source": [
    "mesi = {28: [2], 30: [11, 4, 6, 9], 31: [1, 3, 5, 7, 8, 10, 12]}\n",
    "print(mesi)"
   ]
  },
  {
   "cell_type": "markdown",
   "metadata": {
    "slideshow": {
     "slide_type": "subslide"
    }
   },
   "source": [
    "## Esercizi con i Dizionari\n",
    "\n",
    "**A partire dal dizionario dell'esercizio precedente**\n",
    "\n",
    "* Si modifichi la collezione in modo che Febbraio sia considerato di 29 giorni\n",
    "* Si stampi a video il dizionario"
   ]
  },
  {
   "cell_type": "code",
   "execution_count": 4,
   "metadata": {},
   "outputs": [
    {
     "name": "stdout",
     "output_type": "stream",
     "text": [
      "{30: [11, 4, 6, 9], 31: [1, 3, 5, 7, 8, 10, 12], 29: [2]}\n"
     ]
    }
   ],
   "source": [
    "mesi = {28: [2], 30: [11, 4, 6, 9], 31: [1, 3, 5, 7, 8, 10, 12]}\n",
    "del mesi[28]\n",
    "mesi[29] = [2]\n",
    "print(mesi)"
   ]
  }
 ],
 "metadata": {
  "celltoolbar": "Slideshow",
  "kernelspec": {
   "display_name": "Python 3 (ipykernel)",
   "language": "python",
   "name": "python3"
  },
  "language_info": {
   "codemirror_mode": {
    "name": "ipython",
    "version": 3
   },
   "file_extension": ".py",
   "mimetype": "text/x-python",
   "name": "python",
   "nbconvert_exporter": "python",
   "pygments_lexer": "ipython3",
   "version": "3.11.11"
  },
  "rise": {
   "center": false,
   "enable_chalkboard": true,
   "transition": "fade"
  }
 },
 "nbformat": 4,
 "nbformat_minor": 4
}
