{
 "cells": [
  {
   "cell_type": "markdown",
   "metadata": {
    "slideshow": {
     "slide_type": "slide"
    }
   },
   "source": [
    "# Esercizi con le Tuple"
   ]
  },
  {
   "cell_type": "markdown",
   "metadata": {
    "slideshow": {
     "slide_type": "subslide"
    }
   },
   "source": [
    "## Esercizi con le Tuple\n",
    "\n",
    "**Facciamo un po' di pratica con le tuple**\n",
    "\n",
    "Selezionare e stampare (con `print`) il secondo elemento della seguente tuple:"
   ]
  },
  {
   "cell_type": "code",
   "execution_count": 1,
   "metadata": {},
   "outputs": [
    {
     "name": "stdout",
     "output_type": "stream",
     "text": [
      "4\n"
     ]
    }
   ],
   "source": [
    "t = (2, 4, 6, 8)\n",
    "print(t[1])"
   ]
  },
  {
   "cell_type": "markdown",
   "metadata": {},
   "source": [
    "* Stampare a terminale il concatenamento delle seguenti tuple\n",
    "* Si preceda la stampa con la dicitura \"t1 + t2:\""
   ]
  },
  {
   "cell_type": "code",
   "execution_count": 2,
   "metadata": {},
   "outputs": [
    {
     "name": "stdout",
     "output_type": "stream",
     "text": [
      "t1 + t2: (1, 2, 3, 4)\n"
     ]
    }
   ],
   "source": [
    "t1, t2 = (1, 2), (3, 4)\n",
    "print(f't1 + t2: {t1+t2}')"
   ]
  },
  {
   "cell_type": "markdown",
   "metadata": {
    "slideshow": {
     "slide_type": "subslide"
    }
   },
   "source": [
    "## Esercizi con le Tuple\n",
    "\n",
    "**Facciamo un po' di pratica con le tuple**\n",
    "\n",
    "* A partire dalla seguenti tuple `t1` e `t2`, formare una tupla `t3`\n",
    "* ...Contenente il primo elemento di `t1` ed il secondo di `t2`"
   ]
  },
  {
   "cell_type": "code",
   "execution_count": 3,
   "metadata": {},
   "outputs": [
    {
     "name": "stdout",
     "output_type": "stream",
     "text": [
      "(1, 4)\n"
     ]
    }
   ],
   "source": [
    "t1, t2 = (1, 2), (3, 4)\n",
    "t3 = (t1[0], t2[1])\n",
    "print(t3)"
   ]
  },
  {
   "cell_type": "markdown",
   "metadata": {},
   "source": [
    "* Assegnare i valori della tupla `t` alle variabili `a` e `b`\n",
    "* Stamparne il valore con il formato \"a: `<valore>`, b: `<valore>`\""
   ]
  },
  {
   "cell_type": "code",
   "execution_count": 4,
   "metadata": {},
   "outputs": [
    {
     "name": "stdout",
     "output_type": "stream",
     "text": [
      "a: 2, b: 4\n"
     ]
    }
   ],
   "source": [
    "t = (2, 4)\n",
    "a, b = t\n",
    "print(f'a: {a}, b: {b}')"
   ]
  }
 ],
 "metadata": {
  "celltoolbar": "Slideshow",
  "kernelspec": {
   "display_name": "Python 3 (ipykernel)",
   "language": "python",
   "name": "python3"
  },
  "language_info": {
   "codemirror_mode": {
    "name": "ipython",
    "version": 3
   },
   "file_extension": ".py",
   "mimetype": "text/x-python",
   "name": "python",
   "nbconvert_exporter": "python",
   "pygments_lexer": "ipython3",
   "version": "3.11.11"
  },
  "rise": {
   "center": false,
   "enable_chalkboard": true,
   "transition": "fade"
  }
 },
 "nbformat": 4,
 "nbformat_minor": 4
}
