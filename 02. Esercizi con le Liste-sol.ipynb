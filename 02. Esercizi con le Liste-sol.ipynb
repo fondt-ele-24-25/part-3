{
 "cells": [
  {
   "cell_type": "markdown",
   "metadata": {
    "slideshow": {
     "slide_type": "slide"
    }
   },
   "source": [
    "# Esercizi con le Liste"
   ]
  },
  {
   "cell_type": "markdown",
   "metadata": {
    "slideshow": {
     "slide_type": "subslide"
    }
   },
   "source": [
    "## Esercizi con le Liste\n",
    "\n",
    "**Facciamo un po' di pratica con le liste**\n",
    "\n",
    "Selezionare e stampare (con `print`) il terzo elemento della seguente lista:"
   ]
  },
  {
   "cell_type": "code",
   "execution_count": 1,
   "metadata": {},
   "outputs": [
    {
     "name": "stdout",
     "output_type": "stream",
     "text": [
      "2\n"
     ]
    }
   ],
   "source": [
    "l = [3, 6, 2, 5, 8, 1, 2, 4]\n",
    "print(l[2])"
   ]
  },
  {
   "cell_type": "markdown",
   "metadata": {},
   "source": [
    "Assegnare il valore `-1` al terzo elemento, quindi stampare l'intera lista:"
   ]
  },
  {
   "cell_type": "code",
   "execution_count": 2,
   "metadata": {},
   "outputs": [
    {
     "name": "stdout",
     "output_type": "stream",
     "text": [
      "[3, 6, -1, 5, 8, 1, 2, 4]\n"
     ]
    }
   ],
   "source": [
    "l = [3, 6, 2, 5, 8, 1, 2, 4]\n",
    "l[2] = -1\n",
    "print(l)"
   ]
  },
  {
   "cell_type": "markdown",
   "metadata": {
    "slideshow": {
     "slide_type": "subslide"
    }
   },
   "source": [
    "## Esercizi con le Liste\n",
    "\n",
    "**Facciamo un po' di pratica con le liste**\n",
    "\n",
    "Raddoppiare (con un `*`) il valore il quarto elemento, quindi stampare l'intera lista:"
   ]
  },
  {
   "cell_type": "code",
   "execution_count": 3,
   "metadata": {},
   "outputs": [
    {
     "name": "stdout",
     "output_type": "stream",
     "text": [
      "[3, 6, 2, 10, 8, 1, 2, 4]\n"
     ]
    }
   ],
   "source": [
    "l = [3, 6, 2, 5, 8, 1, 2, 4]\n",
    "l[3] *= 2\n",
    "print(l)"
   ]
  },
  {
   "cell_type": "markdown",
   "metadata": {},
   "source": [
    "Stampare (con uno slice) i primi 3 elementi della lista:"
   ]
  },
  {
   "cell_type": "code",
   "execution_count": 4,
   "metadata": {},
   "outputs": [
    {
     "name": "stdout",
     "output_type": "stream",
     "text": [
      "[3, 6, 2]\n"
     ]
    }
   ],
   "source": [
    "l = [3, 6, 2, 5, 8, 1, 2, 4]\n",
    "print(l[:3])"
   ]
  },
  {
   "cell_type": "markdown",
   "metadata": {
    "slideshow": {
     "slide_type": "subslide"
    }
   },
   "source": [
    "## Esercizi con le Liste\n",
    "\n",
    "**Facciamo un po' di pratica con le liste**\n",
    "\n",
    "* Concatenate le due liste seguenti\n",
    "* Stampatele a video, precedute dalla dicitura: \"concatenamento:\""
   ]
  },
  {
   "cell_type": "code",
   "execution_count": 5,
   "metadata": {},
   "outputs": [
    {
     "name": "stdout",
     "output_type": "stream",
     "text": [
      "concatenamento: [1, 2, 3, 4]\n"
     ]
    }
   ],
   "source": [
    "l1 = [1, 2]\n",
    "l2 = [3, 4]\n",
    "print(f'concatenamento: {l1+l2}')"
   ]
  },
  {
   "cell_type": "markdown",
   "metadata": {},
   "source": [
    "* Stampate a terminale `True` se la lista seguente contiene l'elemento 3\n",
    "* ...Altrimenti stampate `False`"
   ]
  },
  {
   "cell_type": "code",
   "execution_count": 6,
   "metadata": {},
   "outputs": [
    {
     "name": "stdout",
     "output_type": "stream",
     "text": [
      "False\n"
     ]
    }
   ],
   "source": [
    "l1 = [1, 2, 4, 5, 7]\n",
    "print(3 in l1)"
   ]
  }
 ],
 "metadata": {
  "celltoolbar": "Slideshow",
  "kernelspec": {
   "display_name": "Python 3 (ipykernel)",
   "language": "python",
   "name": "python3"
  },
  "language_info": {
   "codemirror_mode": {
    "name": "ipython",
    "version": 3
   },
   "file_extension": ".py",
   "mimetype": "text/x-python",
   "name": "python",
   "nbconvert_exporter": "python",
   "pygments_lexer": "ipython3",
   "version": "3.11.11"
  },
  "rise": {
   "center": false,
   "enable_chalkboard": true,
   "transition": "fade"
  }
 },
 "nbformat": 4,
 "nbformat_minor": 4
}
