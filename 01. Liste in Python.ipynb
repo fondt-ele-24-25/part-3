{
 "cells": [
  {
   "cell_type": "markdown",
   "metadata": {
    "slideshow": {
     "slide_type": "slide"
    }
   },
   "source": [
    "# Liste in Python"
   ]
  },
  {
   "cell_type": "markdown",
   "metadata": {
    "slideshow": {
     "slide_type": "subslide"
    }
   },
   "source": [
    "## Tipi di Dato Composti\n",
    "\n",
    "**Finora abbiamo discusso i tipi di dato semplici in Python**\n",
    "\n",
    "...Ma abbiamo acccennato che esistono anche tipi di dato composti\n",
    "\n",
    "> **Un _tipo di dato composto_ è una aggregazione di tipi di dato semplice**\n",
    "\n",
    "**In questa categoria ricadono:**\n",
    "\n",
    "* Le _collezioni_\n",
    "  - ...Di cui esistono diversi tipi\n",
    "* La _classi_\n",
    "  - ...Ovvero tipi di dato astratti, definibili dall'utente\n",
    "\n",
    "**Discuteremo le collezioni in questa lezione, le classi tra qualche settimana**"
   ]
  },
  {
   "cell_type": "markdown",
   "metadata": {
    "slideshow": {
     "slide_type": "subslide"
    }
   },
   "source": [
    "## Liste\n",
    "\n",
    "**Il tipo di collezione per eccellenza in Python è la lista**\n",
    "\n",
    "Proviamo a dare una definizione che non sia troppo tecnica:\n",
    "\n",
    "> **Una lista è una _sequenza mutabile di oggetti_**\n",
    "\n",
    "**Si può definire la lista con la notazione**\n",
    "\n",
    "```\n",
    "<lista> ::= \"[\" <espressioni> \"]\"\n",
    "<espressioni> ::= | <espressione> | <espressione> {, <espressione>}\n",
    "```\n",
    "\n",
    "* In questo caso \"[\" e \"]\" indicano le parentesi quadre (letterali)\n",
    "* Tra le quadre si può inserire una sequenza di espressioni\n",
    "* ...Separate da virgola\n",
    "* In alternativa, si può lasciare la sequenza di espressioni vuota"
   ]
  },
  {
   "cell_type": "markdown",
   "metadata": {
    "slideshow": {
     "slide_type": "subslide"
    }
   },
   "source": [
    "## Definizione di Liste\n",
    "\n",
    "**Vediamo qualche esempio di definizione di lista**\n",
    "\n",
    "Una lista con 3 numeri:"
   ]
  },
  {
   "cell_type": "code",
   "execution_count": 1,
   "metadata": {},
   "outputs": [
    {
     "data": {
      "text/plain": [
       "[1, 3, 7]"
      ]
     },
     "execution_count": 1,
     "metadata": {},
     "output_type": "execute_result"
    }
   ],
   "source": [
    "[1, 3, 7]"
   ]
  },
  {
   "cell_type": "markdown",
   "metadata": {},
   "source": [
    "Una lista con un solo numero:"
   ]
  },
  {
   "cell_type": "code",
   "execution_count": 2,
   "metadata": {},
   "outputs": [
    {
     "data": {
      "text/plain": [
       "[1.3]"
      ]
     },
     "execution_count": 2,
     "metadata": {},
     "output_type": "execute_result"
    }
   ],
   "source": [
    "[1.3]"
   ]
  },
  {
   "cell_type": "markdown",
   "metadata": {},
   "source": [
    "Una lista vuota:"
   ]
  },
  {
   "cell_type": "code",
   "execution_count": 3,
   "metadata": {},
   "outputs": [
    {
     "data": {
      "text/plain": [
       "[]"
      ]
     },
     "execution_count": 3,
     "metadata": {},
     "output_type": "execute_result"
    }
   ],
   "source": [
    "[]"
   ]
  },
  {
   "cell_type": "markdown",
   "metadata": {
    "slideshow": {
     "slide_type": "subslide"
    }
   },
   "source": [
    "## Definizione di Liste\n",
    "\n",
    "**Qualche altro esempio**\n",
    "\n",
    "Le espressioni possono essere _eterogenee_ (i.e. di tipo diverso)"
   ]
  },
  {
   "cell_type": "code",
   "execution_count": 4,
   "metadata": {},
   "outputs": [
    {
     "data": {
      "text/plain": [
       "[1, 1.7, True]"
      ]
     },
     "execution_count": 4,
     "metadata": {},
     "output_type": "execute_result"
    }
   ],
   "source": [
    "[1, 1.7, True]"
   ]
  },
  {
   "cell_type": "markdown",
   "metadata": {},
   "source": [
    "È possibile _assegnare una lista ad una variabile_:"
   ]
  },
  {
   "cell_type": "code",
   "execution_count": 5,
   "metadata": {},
   "outputs": [
    {
     "data": {
      "text/plain": [
       "[1, 2, 3]"
      ]
     },
     "execution_count": 5,
     "metadata": {},
     "output_type": "execute_result"
    }
   ],
   "source": [
    "l1 = [1, 2, 3]\n",
    "l1"
   ]
  },
  {
   "cell_type": "markdown",
   "metadata": {},
   "source": [
    "Le espressioni possono _non essere semplici_:"
   ]
  },
  {
   "cell_type": "code",
   "execution_count": 6,
   "metadata": {},
   "outputs": [
    {
     "data": {
      "text/plain": [
       "[6, 9, 8]"
      ]
     },
     "execution_count": 6,
     "metadata": {},
     "output_type": "execute_result"
    }
   ],
   "source": [
    "[2*3, 1+8, pow(2, 3)]"
   ]
  },
  {
   "cell_type": "markdown",
   "metadata": {
    "slideshow": {
     "slide_type": "subslide"
    }
   },
   "source": [
    "## Operatore di Costruzione Liste\n",
    "\n",
    "**Tecnicamente, la notazione \"[...]\" è un _operatore_**\n",
    "\n",
    "* Le espressioni racchiusa tra parentesi quadre sono i suoi argomenti\n",
    "* ...Quindi vengono valutate _prima della costruzione_ della lista\n",
    "\n",
    "Nell'esempio appena fatto:"
   ]
  },
  {
   "cell_type": "code",
   "execution_count": 7,
   "metadata": {},
   "outputs": [
    {
     "data": {
      "text/plain": [
       "[6, 9, 8]"
      ]
     },
     "execution_count": 7,
     "metadata": {},
     "output_type": "execute_result"
    }
   ],
   "source": [
    "[2*3, 1+8, pow(2, 3)]"
   ]
  },
  {
   "cell_type": "markdown",
   "metadata": {},
   "source": [
    "* Prima vengono valutate le espressioni `2*3`, `1+8` e `pow(2, 3)`\n",
    "* ...Quindi i valori denotati vengono usati per costruire una lista\n",
    "\n",
    "**L'operatore \"[...]\" _denota una lista_ come risultato_**"
   ]
  },
  {
   "cell_type": "markdown",
   "metadata": {
    "slideshow": {
     "slide_type": "subslide"
    }
   },
   "source": [
    "## Operatore di Costruzione di Liste\n",
    "\n",
    "**Un corollario importante: le espressioni in una lista _possono essere liste_**\n",
    "\n",
    "Per esempio, è perfettamente valido scrivere:"
   ]
  },
  {
   "cell_type": "code",
   "execution_count": 8,
   "metadata": {},
   "outputs": [
    {
     "data": {
      "text/plain": [
       "[[1, 2, 3], [4, 5, 6], [7, 8, 9]]"
      ]
     },
     "execution_count": 8,
     "metadata": {},
     "output_type": "execute_result"
    }
   ],
   "source": [
    "[[1, 2, 3], [4, 5, 6], [7, 8, 9]]"
   ]
  },
  {
   "cell_type": "markdown",
   "metadata": {},
   "source": [
    "* Del resto, le espressioni una lista possono essere composte\n",
    "* ...Ed il simbolo \"[...]\" è un operatore!\n",
    "\n",
    "**Nell'esempio, abbiamo costruito una sorta di matrice**\n",
    "\n",
    "* ...Ma si possono usare liste di lunghezza diversa\n",
    "* ...Ed innestarle arbitrariamente"
   ]
  },
  {
   "cell_type": "code",
   "execution_count": 9,
   "metadata": {},
   "outputs": [
    {
     "data": {
      "text/plain": [
       "[1, [2, 3], [[7, 8], 3]]"
      ]
     },
     "execution_count": 9,
     "metadata": {},
     "output_type": "execute_result"
    }
   ],
   "source": [
    "[1, [2, 3], [[7, 8], 3]]"
   ]
  },
  {
   "cell_type": "markdown",
   "metadata": {
    "slideshow": {
     "slide_type": "subslide"
    }
   },
   "source": [
    "## Accesso a Liste\n",
    "\n",
    "**Per accedere ad una lista, si usa la sintassi seguente:**\n",
    "\n",
    "```\n",
    "<lista>\"[\"<espressione>\"]\"\n",
    "```\n",
    "\n",
    "Dove `<espressione>` specifica l'indice di interesse all'interno della sequenza\n",
    "\n",
    "**Vediamo qualche esempio**\n",
    "\n",
    "* Il primo elemento ha indice 0 e gli altri a seguire"
   ]
  },
  {
   "cell_type": "code",
   "execution_count": 10,
   "metadata": {},
   "outputs": [
    {
     "name": "stdout",
     "output_type": "stream",
     "text": [
      "7\n",
      "9\n"
     ]
    }
   ],
   "source": [
    "a = [7, 2, 9]\n",
    "print(a[0])\n",
    "print(a[2])"
   ]
  },
  {
   "cell_type": "markdown",
   "metadata": {
    "slideshow": {
     "slide_type": "subslide"
    }
   },
   "source": [
    "## Accesso a Liste\n",
    "\n",
    "**Se accediamo oltre l'indice massimo (lunghezza - 1), otteniamo un errore**"
   ]
  },
  {
   "cell_type": "code",
   "execution_count": 11,
   "metadata": {},
   "outputs": [
    {
     "ename": "IndexError",
     "evalue": "list index out of range",
     "output_type": "error",
     "traceback": [
      "\u001b[0;31m---------------------------------------------------------------------------\u001b[0m",
      "\u001b[0;31mIndexError\u001b[0m                                Traceback (most recent call last)",
      "Cell \u001b[0;32mIn[11], line 2\u001b[0m\n\u001b[1;32m      1\u001b[0m a \u001b[38;5;241m=\u001b[39m [\u001b[38;5;241m7\u001b[39m, \u001b[38;5;241m8\u001b[39m, \u001b[38;5;241m9\u001b[39m]\n\u001b[0;32m----> 2\u001b[0m \u001b[38;5;28mprint\u001b[39m(\u001b[43ma\u001b[49m\u001b[43m[\u001b[49m\u001b[38;5;241;43m3\u001b[39;49m\u001b[43m]\u001b[49m)\n",
      "\u001b[0;31mIndexError\u001b[0m: list index out of range"
     ]
    }
   ],
   "source": [
    "a = [7, 8, 9]\n",
    "print(a[3])"
   ]
  },
  {
   "cell_type": "markdown",
   "metadata": {},
   "source": [
    "**Per conoscere la lunghezza di una lista, si usa la funzione `len(<lista>)`**"
   ]
  },
  {
   "cell_type": "code",
   "execution_count": 12,
   "metadata": {},
   "outputs": [
    {
     "name": "stdout",
     "output_type": "stream",
     "text": [
      "3\n"
     ]
    }
   ],
   "source": [
    "a = [7, 8, 9]\n",
    "print(len(a))"
   ]
  },
  {
   "cell_type": "markdown",
   "metadata": {},
   "source": [
    "* \"`len`\" funziona con _ogni tipo di collezione_"
   ]
  },
  {
   "cell_type": "markdown",
   "metadata": {
    "slideshow": {
     "slide_type": "subslide"
    }
   },
   "source": [
    "## Accesso a Liste\n",
    "\n",
    "**In Python, si possono _usare come indici numeri negativi_**\n",
    "\n",
    "In questo caso, -1 è l'indice dell'ultimo elemento e così via"
   ]
  },
  {
   "cell_type": "code",
   "execution_count": 13,
   "metadata": {},
   "outputs": [
    {
     "name": "stdout",
     "output_type": "stream",
     "text": [
      "9\n",
      "8\n"
     ]
    }
   ],
   "source": [
    "a = [7, 8, 9]\n",
    "print(a[-1])\n",
    "print(a[-2])"
   ]
  },
  {
   "cell_type": "markdown",
   "metadata": {},
   "source": [
    "**Gli indici devono però essere numeri interi (o \"slices\")**"
   ]
  },
  {
   "cell_type": "code",
   "execution_count": 14,
   "metadata": {},
   "outputs": [
    {
     "ename": "TypeError",
     "evalue": "list indices must be integers or slices, not float",
     "output_type": "error",
     "traceback": [
      "\u001b[0;31m---------------------------------------------------------------------------\u001b[0m",
      "\u001b[0;31mTypeError\u001b[0m                                 Traceback (most recent call last)",
      "Cell \u001b[0;32mIn[14], line 2\u001b[0m\n\u001b[1;32m      1\u001b[0m a \u001b[38;5;241m=\u001b[39m [\u001b[38;5;241m7\u001b[39m, \u001b[38;5;241m8\u001b[39m, \u001b[38;5;241m9\u001b[39m]\n\u001b[0;32m----> 2\u001b[0m \u001b[43ma\u001b[49m\u001b[43m[\u001b[49m\u001b[38;5;241;43m1.3\u001b[39;49m\u001b[43m]\u001b[49m\n",
      "\u001b[0;31mTypeError\u001b[0m: list indices must be integers or slices, not float"
     ]
    }
   ],
   "source": [
    "a = [7, 8, 9]\n",
    "a[1.3]"
   ]
  },
  {
   "cell_type": "markdown",
   "metadata": {
    "slideshow": {
     "slide_type": "subslide"
    }
   },
   "source": [
    "## Operatore di Indicizzazione\n",
    "\n",
    "**Il simbolo \"[...]\", quando usato per accedere ad una lista...**\n",
    "\n",
    "...È considerato come un operatore e si chiama _operatore di indicizzazione_\n",
    "\n",
    "* Quindi la notazione `<lista>[<indice>]` è una espressione composta\n",
    "* I cui argomenti sono _la lista_ e _l'indice_\n",
    "* ...E che denota il valore indicizzato"
   ]
  },
  {
   "cell_type": "code",
   "execution_count": 15,
   "metadata": {},
   "outputs": [
    {
     "name": "stdout",
     "output_type": "stream",
     "text": [
      "8\n",
      "9\n",
      "1\n"
     ]
    }
   ],
   "source": [
    "a = [7, 8, 9]\n",
    "print(a[1]) # lista ed indice come espressioni semplici\n",
    "print(a[1+1]) # lista semplice, indice come espressione composta\n",
    "print([1, 4, 5][0]) # lista come espressione composta!"
   ]
  },
  {
   "cell_type": "markdown",
   "metadata": {},
   "source": [
    "* Nell'ultimo esempio, `[1, 4, 5]` denota una lista\n",
    "* ...Cui viene applicato l'operatore di indicizzazione con argomento `0`"
   ]
  },
  {
   "cell_type": "markdown",
   "metadata": {
    "slideshow": {
     "slide_type": "subslide"
    }
   },
   "source": [
    "## Assegnamento di Elementi\n",
    "\n",
    "**È possibile accedere ad un elemento in scrittura**\n",
    "\n",
    "* In pratica, se l'operatore di indicizzazione è usato a sx del segno \"`=`\"\n",
    "* ...La posizione corrispondente della lista è trattata _come una variabile_"
   ]
  },
  {
   "cell_type": "code",
   "execution_count": 16,
   "metadata": {},
   "outputs": [
    {
     "name": "stdout",
     "output_type": "stream",
     "text": [
      "Prima: [7, 8, 9]\n",
      "Dopo: [1, 8, 9]\n"
     ]
    }
   ],
   "source": [
    "a = [7, 8, 9]\n",
    "print(f'Prima: {a}')\n",
    "a[0] = 1\n",
    "print(f'Dopo: {a}')"
   ]
  },
  {
   "cell_type": "markdown",
   "metadata": {},
   "source": [
    "In questo modo si può modificare un elemento della lista\n",
    "\n",
    "**Intuitivamente:**\n",
    "\n",
    "* Potete trattare una lista\n",
    "* ...Come una _sequenza di variabili_"
   ]
  },
  {
   "cell_type": "markdown",
   "metadata": {
    "slideshow": {
     "slide_type": "subslide"
    }
   },
   "source": [
    "## Accesso Mediante \"Slice\"\n",
    "\n",
    "**Si può selezionare una sottosequenza da una lista (i.e. una sotto-lista)**\n",
    "\n",
    "...Usando un costrutto chiamato _slice_\n",
    "\n",
    "* In particolare, uno slice specifica una sequenza di indici\n",
    "* Si usa la sintassi seguente:\n",
    "\n",
    "```\n",
    "<primo indice incluso>:<primo indice escluso>\n",
    "```\n",
    "\n",
    "**Vediamo subito un esempio:**"
   ]
  },
  {
   "cell_type": "code",
   "execution_count": 17,
   "metadata": {},
   "outputs": [
    {
     "data": {
      "text/plain": [
       "[2, 4, 6]"
      ]
     },
     "execution_count": 17,
     "metadata": {},
     "output_type": "execute_result"
    }
   ],
   "source": [
    "l = [2, 4, 6, 8, 10]\n",
    "l[0:3]"
   ]
  },
  {
   "cell_type": "markdown",
   "metadata": {},
   "source": [
    "* Iniziamo a prendere elementi dall'indice `0`\n",
    "* ...E ci fermiamo all'indice `3` (escluso)"
   ]
  },
  {
   "cell_type": "markdown",
   "metadata": {
    "slideshow": {
     "slide_type": "subslide"
    }
   },
   "source": [
    "## Accesso Mediante \"Slice\"\n",
    "\n",
    "**È possibile \"saltare\" indici**\n",
    "\n",
    "...Usando la notazione seguente:\n",
    "\n",
    "```\n",
    "<primo indice incluso>:<primo indice escluso>:<passo>\n",
    "```\n",
    "\n",
    "* Il primo indice incluso `<primo indice incluso>`\n",
    "* Il secondo è `<primo indice incluso> + <passo>`\n",
    "* Il terzo è `<primo indice incluso> + <passo> + <passo>`\n",
    "* ...E così via finché non viene raggiunto o superato `<primo indice escluso>`\n",
    "\n",
    "**Vediamo un esempio:**"
   ]
  },
  {
   "cell_type": "code",
   "execution_count": 18,
   "metadata": {},
   "outputs": [
    {
     "data": {
      "text/plain": [
       "[2, 6, 10]"
      ]
     },
     "execution_count": 18,
     "metadata": {},
     "output_type": "execute_result"
    }
   ],
   "source": [
    "l = [2, 4, 6, 8, 10, 11, 8, 3]\n",
    "l[0:5:2] # seleziona gli indici 0, 2 e 4"
   ]
  },
  {
   "cell_type": "markdown",
   "metadata": {
    "slideshow": {
     "slide_type": "subslide"
    }
   },
   "source": [
    "## Accesso Mediante \"Slice\"\n",
    "\n",
    "**È possibile omettere alcuni degli argomenti dello slice**\n",
    "\n",
    "* Se si omette il primo indice da includere, si assume sia `0`:"
   ]
  },
  {
   "cell_type": "code",
   "execution_count": 19,
   "metadata": {},
   "outputs": [
    {
     "data": {
      "text/plain": [
       "[2, 4, 6, 8, 10]"
      ]
     },
     "execution_count": 19,
     "metadata": {},
     "output_type": "execute_result"
    }
   ],
   "source": [
    "l = [2, 4, 6, 8, 10, 11, 8, 3]\n",
    "l[:5]"
   ]
  },
  {
   "cell_type": "markdown",
   "metadata": {},
   "source": [
    "* Se si omettere il primo indice da escludere\n",
    "* ...Si assume sia la lunghezza della lista (i.e. si arriva alla fine)"
   ]
  },
  {
   "cell_type": "code",
   "execution_count": 20,
   "metadata": {},
   "outputs": [
    {
     "data": {
      "text/plain": [
       "[8, 10, 11, 8, 3]"
      ]
     },
     "execution_count": 20,
     "metadata": {},
     "output_type": "execute_result"
    }
   ],
   "source": [
    "l = [2, 4, 6, 8, 10, 11, 8, 3]\n",
    "l[3:]"
   ]
  },
  {
   "cell_type": "markdown",
   "metadata": {
    "slideshow": {
     "slide_type": "subslide"
    }
   },
   "source": [
    "## Operatore di Indicizzazione\n",
    "\n",
    "**L'operatore di indicizzazione**\n",
    "\n",
    "* Funziona per molti tipi di collezione (come vedremo)\n",
    "* ...Ed anche per le stringhe!\n",
    "\n",
    "**In questo caso denota una stringa**\n",
    "\n",
    "...Costituita dal carattere indicizzato"
   ]
  },
  {
   "cell_type": "code",
   "execution_count": 21,
   "metadata": {},
   "outputs": [
    {
     "data": {
      "text/plain": [
       "'C'"
      ]
     },
     "execution_count": 21,
     "metadata": {},
     "output_type": "execute_result"
    }
   ],
   "source": [
    "s = 'Ciao, mondo!'\n",
    "s[0]"
   ]
  },
  {
   "cell_type": "markdown",
   "metadata": {},
   "source": [
    "Si possono usare anche gli slice:"
   ]
  },
  {
   "cell_type": "code",
   "execution_count": 22,
   "metadata": {},
   "outputs": [
    {
     "data": {
      "text/plain": [
       "'Ciao'"
      ]
     },
     "execution_count": 22,
     "metadata": {},
     "output_type": "execute_result"
    }
   ],
   "source": [
    "s = 'Ciao, mondo!'\n",
    "s[0:4]"
   ]
  },
  {
   "cell_type": "markdown",
   "metadata": {
    "slideshow": {
     "slide_type": "subslide"
    }
   },
   "source": [
    "## Rimozione ed Aggiunta di Valori\n",
    "\n",
    "**È possibile eliminare elementi in una lista**\n",
    "\n",
    "Si può usare l'istruzione `del`"
   ]
  },
  {
   "cell_type": "code",
   "execution_count": 23,
   "metadata": {},
   "outputs": [
    {
     "name": "stdout",
     "output_type": "stream",
     "text": [
      "[1, 2, 3]\n",
      "[2, 3]\n"
     ]
    }
   ],
   "source": [
    "l = [1, 2, 3]\n",
    "print(l)\n",
    "del l[0]\n",
    "print(l)"
   ]
  },
  {
   "cell_type": "markdown",
   "metadata": {},
   "source": [
    "* `del` è in grado di eliminare anche le normali variabili\n",
    "* ...Ma ha diverse controindicazioni\n",
    "\n",
    "In questo corso, eviteremo di utilizzarlo\n",
    "\n",
    "**Infine, si possono _aggiungere_ elementi ad una lista**\n",
    "\n",
    "...Ma vedremo come farlo tra qualche settimana"
   ]
  },
  {
   "cell_type": "markdown",
   "metadata": {
    "slideshow": {
     "slide_type": "subslide"
    }
   },
   "source": [
    "## Operatori per Liste\n",
    "\n",
    "**Alcuni operatori hanno un significato particolare per le liste**\n",
    "\n",
    "L'operatore `+`, se applicato a due liste, le _concatena_"
   ]
  },
  {
   "cell_type": "code",
   "execution_count": 24,
   "metadata": {},
   "outputs": [
    {
     "data": {
      "text/plain": [
       "[1, 2, 3, 4]"
      ]
     },
     "execution_count": 24,
     "metadata": {},
     "output_type": "execute_result"
    }
   ],
   "source": [
    "l1 = [1, 2]\n",
    "l2 = [3, 4]\n",
    "l1 + l2"
   ]
  },
  {
   "cell_type": "markdown",
   "metadata": {},
   "source": [
    "* L'operatore `*`, se applicato ad una lista `l` e ad un numero intero `n`\n",
    "* ...Ripete la lista `l` per `n` volte"
   ]
  },
  {
   "cell_type": "code",
   "execution_count": 25,
   "metadata": {},
   "outputs": [
    {
     "data": {
      "text/plain": [
       "[1, 2, 1, 2, 1, 2]"
      ]
     },
     "execution_count": 25,
     "metadata": {},
     "output_type": "execute_result"
    }
   ],
   "source": [
    "l1 * 3"
   ]
  },
  {
   "cell_type": "markdown",
   "metadata": {
    "slideshow": {
     "slide_type": "subslide"
    }
   },
   "source": [
    "## Operatore `in`\n",
    "\n",
    "**Si può verificare se una lista contenga un elemento**\n",
    "\n",
    "...Mediante l'operatore `in`, che ha la sintassi:\n",
    "\n",
    "```\n",
    "<espressione> in <espressione lista>\n",
    "```\n",
    "\n",
    "* Dove `<espressione>` indica l'elemento da cercare\n",
    "* ...Ed `<espressione lista>` dove cercarlo\n",
    "\n",
    "Restituisce `True` se l'elemento viene trovato\n",
    "\n",
    "**Vediamo un paio di esempi:**"
   ]
  },
  {
   "cell_type": "code",
   "execution_count": 26,
   "metadata": {},
   "outputs": [
    {
     "name": "stdout",
     "output_type": "stream",
     "text": [
      "True\n",
      "False\n"
     ]
    }
   ],
   "source": [
    "l = [2, 4, 6, 8]\n",
    "print(8 in l)\n",
    "print(5 in l)"
   ]
  }
 ],
 "metadata": {
  "celltoolbar": "Slideshow",
  "kernelspec": {
   "display_name": "Python 3 (ipykernel)",
   "language": "python",
   "name": "python3"
  },
  "language_info": {
   "codemirror_mode": {
    "name": "ipython",
    "version": 3
   },
   "file_extension": ".py",
   "mimetype": "text/x-python",
   "name": "python",
   "nbconvert_exporter": "python",
   "pygments_lexer": "ipython3",
   "version": "3.11.11"
  },
  "rise": {
   "center": false,
   "enable_chalkboard": true,
   "transition": "fade"
  }
 },
 "nbformat": 4,
 "nbformat_minor": 4
}
