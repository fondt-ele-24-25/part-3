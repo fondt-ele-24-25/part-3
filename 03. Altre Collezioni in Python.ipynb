{
 "cells": [
  {
   "cell_type": "markdown",
   "metadata": {
    "slideshow": {
     "slide_type": "slide"
    }
   },
   "source": [
    "# Tuple in Python"
   ]
  },
  {
   "cell_type": "markdown",
   "metadata": {
    "slideshow": {
     "slide_type": "subslide"
    }
   },
   "source": [
    "## Tuple\n",
    "\n",
    "**Un secondo tipo di collezione in Python è dato dalle tuple**\n",
    "\n",
    "> **Una _tupla_ è una sequenza immutabile di oggetti**\n",
    "\n",
    "**Si può definite una tupla con la notazione:**\n",
    "\n",
    "```\n",
    "<tupla> ::= ( <espressioni> [,] ) | <espressioni>\n",
    "<espressioni> ::= | <espressione> | <espressione> {, <espressione>}\n",
    "```\n",
    "\n",
    "* La notazione è la stessa delle liste, ma si usano le _parentesi tonde_\n",
    "* ...O addirittura nessuna parentesi!"
   ]
  },
  {
   "cell_type": "markdown",
   "metadata": {
    "slideshow": {
     "slide_type": "subslide"
    }
   },
   "source": [
    "## Tuple\n",
    "\n",
    "**Vediamo qualche esempio di definizione di tupla**"
   ]
  },
  {
   "cell_type": "code",
   "execution_count": 10,
   "metadata": {},
   "outputs": [
    {
     "data": {
      "text/plain": [
       "(2, 4, 6)"
      ]
     },
     "execution_count": 10,
     "metadata": {},
     "output_type": "execute_result"
    }
   ],
   "source": [
    "(2, 4, 6)  # con le parentesi tonde"
   ]
  },
  {
   "cell_type": "code",
   "execution_count": 11,
   "metadata": {},
   "outputs": [
    {
     "data": {
      "text/plain": [
       "(2, 4, 6)"
      ]
     },
     "execution_count": 11,
     "metadata": {},
     "output_type": "execute_result"
    }
   ],
   "source": [
    "2, 4, 6 # senza parentesi"
   ]
  },
  {
   "cell_type": "markdown",
   "metadata": {},
   "source": [
    "**È (ovviamente) possibile assegnare una tupla ad una variabile:**"
   ]
  },
  {
   "cell_type": "code",
   "execution_count": 12,
   "metadata": {},
   "outputs": [
    {
     "name": "stdout",
     "output_type": "stream",
     "text": [
      "(2, 4, 6)\n"
     ]
    }
   ],
   "source": [
    "t = (2, 4, 6)\n",
    "print(t)"
   ]
  },
  {
   "cell_type": "markdown",
   "metadata": {
    "slideshow": {
     "slide_type": "subslide"
    }
   },
   "source": [
    "## Accesso a Tuple\n",
    "\n",
    "**Si può accedere ad una tupla con le stesse modalità di una lista**"
   ]
  },
  {
   "cell_type": "code",
   "execution_count": 13,
   "metadata": {},
   "outputs": [
    {
     "name": "stdout",
     "output_type": "stream",
     "text": [
      "4\n",
      "9\n",
      "(4, 6)\n"
     ]
    }
   ],
   "source": [
    "t = (2, 4, 6, 9)\n",
    "print(t[1])\n",
    "print(t[-1])\n",
    "print(t[1:3])"
   ]
  },
  {
   "cell_type": "markdown",
   "metadata": {},
   "source": [
    "Si può accedere con un indice singolo (anche negativo) o con slice\n",
    "\n",
    "**Come una lista, una tupla può contenere dati eterogenei:**"
   ]
  },
  {
   "cell_type": "code",
   "execution_count": 14,
   "metadata": {},
   "outputs": [
    {
     "name": "stdout",
     "output_type": "stream",
     "text": [
      "(1, 3.5, False)\n"
     ]
    }
   ],
   "source": [
    "t = (1, 3.5, False)\n",
    "print(t)"
   ]
  },
  {
   "cell_type": "markdown",
   "metadata": {
    "slideshow": {
     "slide_type": "subslide"
    }
   },
   "source": [
    "## Immutabilità delle Tuple\n",
    "\n",
    "**Le tuple sono sequenze immutabili**\n",
    "\n",
    "...Questo è la differenza principale con le liste\n",
    "\n",
    "* Non è possibile ri-assegnare un elemento di una tupla:"
   ]
  },
  {
   "cell_type": "code",
   "execution_count": 15,
   "metadata": {},
   "outputs": [
    {
     "ename": "TypeError",
     "evalue": "'tuple' object does not support item assignment",
     "output_type": "error",
     "traceback": [
      "\u001b[0;31m---------------------------------------------------------------------------\u001b[0m",
      "\u001b[0;31mTypeError\u001b[0m                                 Traceback (most recent call last)",
      "Cell \u001b[0;32mIn[15], line 2\u001b[0m\n\u001b[1;32m      1\u001b[0m t \u001b[38;5;241m=\u001b[39m (\u001b[38;5;241m1\u001b[39m, \u001b[38;5;241m4\u001b[39m, \u001b[38;5;241m7\u001b[39m)\n\u001b[0;32m----> 2\u001b[0m \u001b[43mt\u001b[49m\u001b[43m[\u001b[49m\u001b[38;5;241;43m0\u001b[39;49m\u001b[43m]\u001b[49m \u001b[38;5;241m=\u001b[39m \u001b[38;5;241m2\u001b[39m\n",
      "\u001b[0;31mTypeError\u001b[0m: 'tuple' object does not support item assignment"
     ]
    }
   ],
   "source": [
    "t = (1, 4, 7)\n",
    "t[0] = 2"
   ]
  },
  {
   "cell_type": "markdown",
   "metadata": {},
   "source": [
    "* Non è neppure possibile aggiungere o rimuovere elementi\n",
    "* Con le liste si può, anche se lo abbiamo solo accennato"
   ]
  },
  {
   "cell_type": "markdown",
   "metadata": {
    "slideshow": {
     "slide_type": "subslide"
    }
   },
   "source": [
    "## Operazioni su Tuple\n",
    "\n",
    "**Le tuple supportano gli stessi operatori delle liste**\n",
    "\n",
    "Si può usare l'operatore `+`"
   ]
  },
  {
   "cell_type": "code",
   "execution_count": 16,
   "metadata": {},
   "outputs": [
    {
     "data": {
      "text/plain": [
       "(1, 2, 3, 4)"
      ]
     },
     "execution_count": 16,
     "metadata": {},
     "output_type": "execute_result"
    }
   ],
   "source": [
    "t1, t2 = (1, 2), (3, 4)\n",
    "t1 + t2"
   ]
  },
  {
   "cell_type": "markdown",
   "metadata": {},
   "source": [
    "...L'operatore `*`"
   ]
  },
  {
   "cell_type": "code",
   "execution_count": 17,
   "metadata": {},
   "outputs": [
    {
     "data": {
      "text/plain": [
       "(1, 2, 1, 2, 1, 2)"
      ]
     },
     "execution_count": 17,
     "metadata": {},
     "output_type": "execute_result"
    }
   ],
   "source": [
    "t1 * 3"
   ]
  },
  {
   "cell_type": "markdown",
   "metadata": {},
   "source": [
    "...E l'operatore `in`:"
   ]
  },
  {
   "cell_type": "code",
   "execution_count": 18,
   "metadata": {},
   "outputs": [
    {
     "name": "stdout",
     "output_type": "stream",
     "text": [
      "True\n"
     ]
    }
   ],
   "source": [
    "print(2 in t1)"
   ]
  },
  {
   "cell_type": "markdown",
   "metadata": {
    "slideshow": {
     "slide_type": "subslide"
    }
   },
   "source": [
    "## Tuple Unpacking\n",
    "\n",
    "**È possibile assegnare gli elementi di una tupla ad altrettante variabili**\n",
    "\n",
    "In Python si chiama \"spacchettamento\" di tuple (_tuple unpacking_)"
   ]
  },
  {
   "cell_type": "code",
   "execution_count": 19,
   "metadata": {},
   "outputs": [
    {
     "name": "stdout",
     "output_type": "stream",
     "text": [
      "2\n",
      "4\n",
      "6\n"
     ]
    }
   ],
   "source": [
    "a, b, c = (2, 4, 6)\n",
    "print(a)\n",
    "print(b)\n",
    "print(c)"
   ]
  },
  {
   "cell_type": "markdown",
   "metadata": {},
   "source": [
    "* Gli elementi della tupla a dx dell'uguale\n",
    "* ...Vengono assegnate alle variabili a sx dell'uguale\n",
    "\n",
    "**Si procede _per posizione_:**\n",
    "\n",
    "* Il primo elemento va nella prima variabile\n",
    "* ...Il secondo elemento nella seconda variabile e così via"
   ]
  },
  {
   "cell_type": "markdown",
   "metadata": {
    "slideshow": {
     "slide_type": "subslide"
    }
   },
   "source": [
    "## Tuple Unpacking\n",
    "\n",
    "**Se qualche variabile non è di interesse...**\n",
    "\n",
    "...È possibile assegnarla alla variabile speciale \"`_`\" (underscore)"
   ]
  },
  {
   "cell_type": "code",
   "execution_count": 20,
   "metadata": {},
   "outputs": [],
   "source": [
    "a, _, _ = (3, 7, 9)"
   ]
  },
  {
   "cell_type": "markdown",
   "metadata": {},
   "source": [
    "**Il tuple unpacking è una funzionalità molto comoda**\n",
    "\n",
    "* Viene spesso usata per definire molte variabili in un'unica linea"
   ]
  },
  {
   "cell_type": "code",
   "execution_count": 21,
   "metadata": {},
   "outputs": [],
   "source": [
    "a, b, c = 4, 8, 12"
   ]
  },
  {
   "cell_type": "markdown",
   "metadata": {},
   "source": [
    "* ...E a dispetto del nome funziona anche con le liste:"
   ]
  },
  {
   "cell_type": "code",
   "execution_count": 22,
   "metadata": {},
   "outputs": [
    {
     "name": "stdout",
     "output_type": "stream",
     "text": [
      "a: 1, b: 2, c: 3\n"
     ]
    }
   ],
   "source": [
    "a, b, c = [1, 2, 3]\n",
    "print(f'a: {a}, b: {b}, c: {c}')"
   ]
  },
  {
   "cell_type": "markdown",
   "metadata": {
    "slideshow": {
     "slide_type": "slide"
    }
   },
   "source": [
    "# Insiemi"
   ]
  },
  {
   "cell_type": "markdown",
   "metadata": {
    "slideshow": {
     "slide_type": "subslide"
    }
   },
   "source": [
    "## Insiemi\n",
    "\n",
    "**Un terzo tipo di collezioni è dato dagli insiemi:**\n",
    "\n",
    "> **Un _insieme_ è una collezione di elementi mutabile, non-ordinata e senza replicazioni**\n",
    "\n",
    "**Si può definite un insieme con la notazione:**\n",
    "\n",
    "```\n",
    "<insieme> ::= \"{\" <espressioni> \"}\"\n",
    "<espressioni> ::= | <espressione> | <espressione> {, <espressione>}\n",
    "```\n",
    "\n",
    "* La notazione è la stessa delle liste, ma si usano le _parentesi graffe_\n",
    "\n",
    "Vediamo un semplice esempio:"
   ]
  },
  {
   "cell_type": "code",
   "execution_count": 23,
   "metadata": {},
   "outputs": [
    {
     "data": {
      "text/plain": [
       "{1, 2, 3}"
      ]
     },
     "execution_count": 23,
     "metadata": {},
     "output_type": "execute_result"
    }
   ],
   "source": [
    "{1, 2, 3}"
   ]
  },
  {
   "cell_type": "markdown",
   "metadata": {
    "slideshow": {
     "slide_type": "subslide"
    }
   },
   "source": [
    "## Insiemi\n",
    "\n",
    "**Un insieme non può contenere duplicati**\n",
    "\n",
    "Se si prova ad inserire lo stesso elemento due volte, il duplicato viene scartato:"
   ]
  },
  {
   "cell_type": "code",
   "execution_count": 24,
   "metadata": {},
   "outputs": [
    {
     "data": {
      "text/plain": [
       "{1, 2, 3}"
      ]
     },
     "execution_count": 24,
     "metadata": {},
     "output_type": "execute_result"
    }
   ],
   "source": [
    "{1, 1, 2, 2, 3, 3}"
   ]
  },
  {
   "cell_type": "markdown",
   "metadata": {},
   "source": [
    "**Un insieme è una collezione non ordinata**\n",
    "\n",
    "...Quindi accedere con un indice non ha senso:"
   ]
  },
  {
   "cell_type": "code",
   "execution_count": 25,
   "metadata": {},
   "outputs": [
    {
     "ename": "TypeError",
     "evalue": "'set' object is not subscriptable",
     "output_type": "error",
     "traceback": [
      "\u001b[0;31m---------------------------------------------------------------------------\u001b[0m",
      "\u001b[0;31mTypeError\u001b[0m                                 Traceback (most recent call last)",
      "Cell \u001b[0;32mIn[25], line 2\u001b[0m\n\u001b[1;32m      1\u001b[0m s \u001b[38;5;241m=\u001b[39m {\u001b[38;5;241m1\u001b[39m, \u001b[38;5;241m2\u001b[39m, \u001b[38;5;241m3\u001b[39m}\n\u001b[0;32m----> 2\u001b[0m \u001b[43ms\u001b[49m\u001b[43m[\u001b[49m\u001b[38;5;241;43m0\u001b[39;49m\u001b[43m]\u001b[49m\n",
      "\u001b[0;31mTypeError\u001b[0m: 'set' object is not subscriptable"
     ]
    }
   ],
   "source": [
    "s = {1, 2, 3}\n",
    "s[0]"
   ]
  },
  {
   "cell_type": "markdown",
   "metadata": {
    "slideshow": {
     "slide_type": "subslide"
    }
   },
   "source": [
    "## Operazioni su Insiemi\n",
    "\n",
    "**Anche per gli insiemi sono disponibili alcuni operatori specifici**"
   ]
  },
  {
   "cell_type": "code",
   "execution_count": 26,
   "metadata": {},
   "outputs": [
    {
     "name": "stdout",
     "output_type": "stream",
     "text": [
      "s1 | s2: {1, 2, 3}\n",
      "s1 & s2: {2}\n",
      "s1 - s2: {1}\n",
      "s1 ^ s2: {1, 3}\n"
     ]
    }
   ],
   "source": [
    "s1, s2 = {1, 2}, {2, 3}\n",
    "print('s1 | s2:', s1 | s2)\n",
    "print('s1 & s2:', s1 & s2)\n",
    "print('s1 - s2:', s1 - s2)\n",
    "print('s1 ^ s2:', s1 ^ s2)"
   ]
  },
  {
   "cell_type": "markdown",
   "metadata": {},
   "source": [
    "* L'operatore `|` restituisce l'_unione_ di due insiemi\n",
    "* L'operatore `&` restituisce l'_intersezione_ di due insiemi\n",
    "* L'operatore `-` restituisce la _differenza di due insiemi\n",
    "* L'operatore `^` restituisce l'unione degli elementi esclusivi"
   ]
  },
  {
   "cell_type": "markdown",
   "metadata": {
    "slideshow": {
     "slide_type": "subslide"
    }
   },
   "source": [
    "## Operazioni su Insiemi\n",
    "\n",
    "**L'operatore `in` si comporta nel solito modo**"
   ]
  },
  {
   "cell_type": "code",
   "execution_count": 27,
   "metadata": {},
   "outputs": [
    {
     "name": "stdout",
     "output_type": "stream",
     "text": [
      "3 in s2: False\n"
     ]
    }
   ],
   "source": [
    "s1 = {1, 2}\n",
    "print('3 in s2:', 3 in s1)"
   ]
  },
  {
   "cell_type": "markdown",
   "metadata": {},
   "source": [
    "**Per aggiungere e rimuovere elementi**\n",
    "\n",
    "* Si possono usare gli operatori `|` e `-`\n",
    "* ...Ma ci sono anche metodi più appropriati\n",
    "\n",
    "Li vedremo più avanti nel corso"
   ]
  },
  {
   "cell_type": "markdown",
   "metadata": {
    "slideshow": {
     "slide_type": "subslide"
    }
   },
   "source": [
    "## Conversione di Collezioni\n",
    "\n",
    "**È possibile _convertire_ il tipo di una collezione usando speciali funzioni**\n",
    "\n",
    "* Si usa il costruttore di liste `list` per ottenere una lista:"
   ]
  },
  {
   "cell_type": "code",
   "execution_count": 28,
   "metadata": {},
   "outputs": [
    {
     "data": {
      "text/plain": [
       "[1, 2, 3]"
      ]
     },
     "execution_count": 28,
     "metadata": {},
     "output_type": "execute_result"
    }
   ],
   "source": [
    "t = (1, 2, 3)\n",
    "list(t)"
   ]
  },
  {
   "cell_type": "markdown",
   "metadata": {},
   "source": [
    "* Si usa il costruttore di tuple `tuple` per ottenere una tupla:"
   ]
  },
  {
   "cell_type": "code",
   "execution_count": 29,
   "metadata": {},
   "outputs": [
    {
     "data": {
      "text/plain": [
       "(1, 2, 3)"
      ]
     },
     "execution_count": 29,
     "metadata": {},
     "output_type": "execute_result"
    }
   ],
   "source": [
    "tuple([1, 2, 3])"
   ]
  },
  {
   "cell_type": "markdown",
   "metadata": {},
   "source": [
    "* Si usa il costruttore di insiemi `set` per ottenere un insieme:"
   ]
  },
  {
   "cell_type": "code",
   "execution_count": 30,
   "metadata": {},
   "outputs": [
    {
     "data": {
      "text/plain": [
       "{1, 2, 3}"
      ]
     },
     "execution_count": 30,
     "metadata": {},
     "output_type": "execute_result"
    }
   ],
   "source": [
    "set([1, 1, 2, 2, 3, 3])"
   ]
  },
  {
   "cell_type": "markdown",
   "metadata": {
    "slideshow": {
     "slide_type": "slide"
    }
   },
   "source": [
    "# Dizionari in Python"
   ]
  },
  {
   "cell_type": "markdown",
   "metadata": {
    "slideshow": {
     "slide_type": "subslide"
    }
   },
   "source": [
    "## Dizionari in Python\n",
    "\n",
    "**Un quarto tipo di collezione in Python è dato dai dizionari**\n",
    "\n",
    "> **Un _dizionario_ è una collezioni di oggetti, non ordinata, mutabile, indicizzata mediante valori specificati dall'utente**\n",
    "\n",
    "**Si può definite un dizionario con la notazione:**\n",
    "\n",
    "```\n",
    "<dizionario> ::= dict() | \"{\" <coppia> {, <coppia>} \"}\"\n",
    "<coppia> ::= <espressione chiave> : <espressione valore>\n",
    "```\n",
    "\n",
    "* Un dizionario vuoto lo si indica con `dict()` (costruttore di dizionari)\n",
    "* Altrimenti si racchiudono, tra parentesi graffe...\n",
    "* ...Una o più coppie chiave-valore"
   ]
  },
  {
   "cell_type": "markdown",
   "metadata": {
    "slideshow": {
     "slide_type": "subslide"
    }
   },
   "source": [
    "## Dizionari in Python\n",
    "\n",
    "**Vediamo qualche esempio**"
   ]
  },
  {
   "cell_type": "code",
   "execution_count": 31,
   "metadata": {},
   "outputs": [
    {
     "data": {
      "text/plain": [
       "{'nome': 'Mario', 'cognome': 'Pinto'}"
      ]
     },
     "execution_count": 31,
     "metadata": {},
     "output_type": "execute_result"
    }
   ],
   "source": [
    "d = {'nome': 'Mario', 'cognome': 'Pinto'}\n",
    "d"
   ]
  },
  {
   "cell_type": "markdown",
   "metadata": {},
   "source": [
    "* Un dizionario con due chiavi (e quindi due valori)\n",
    "  - Alla chiave `'nome'` corrisponde il valore `'Mario'`\n",
    "  - Alla chiave `'cognome'` corrisponde il valore `Pinto'`"
   ]
  },
  {
   "cell_type": "code",
   "execution_count": 32,
   "metadata": {},
   "outputs": [
    {
     "data": {
      "text/plain": [
       "{}"
      ]
     },
     "execution_count": 32,
     "metadata": {},
     "output_type": "execute_result"
    }
   ],
   "source": [
    "d = dict()\n",
    "d"
   ]
  },
  {
   "cell_type": "markdown",
   "metadata": {},
   "source": [
    "* Un dizionario vuoto"
   ]
  },
  {
   "cell_type": "markdown",
   "metadata": {
    "slideshow": {
     "slide_type": "subslide"
    }
   },
   "source": [
    "## Dizionari in Python\n",
    "\n",
    "**Vediamo qualche esempio**"
   ]
  },
  {
   "cell_type": "code",
   "execution_count": 33,
   "metadata": {},
   "outputs": [],
   "source": [
    "stato = {0: 'ottimo', 1: 'ammissibile', 2: 'non ammissibile', 3: 'indefinito'}"
   ]
  },
  {
   "cell_type": "markdown",
   "metadata": {},
   "source": [
    "* Le chiavi non devono essere necessariamente stringhe"
   ]
  },
  {
   "cell_type": "code",
   "execution_count": 34,
   "metadata": {},
   "outputs": [
    {
     "data": {
      "text/plain": [
       "{2: 'b40878', 'voto': 26}"
      ]
     },
     "execution_count": 34,
     "metadata": {},
     "output_type": "execute_result"
    }
   ],
   "source": [
    "d = {1+1: 'b40878', 'voto': 30 - 3 - 1}\n",
    "d"
   ]
  },
  {
   "cell_type": "markdown",
   "metadata": {},
   "source": [
    "* Sia chiavi che valori possono essere specificati mediante espressioni"
   ]
  },
  {
   "cell_type": "markdown",
   "metadata": {
    "slideshow": {
     "slide_type": "subslide"
    }
   },
   "source": [
    "## Accesso a Dizionari\n",
    "\n",
    "**Per accedere ad un dizionario si usa l'operatore di indicizzazione**\n",
    "\n",
    "...E _si passa come argomento la chiave_ desiderata:"
   ]
  },
  {
   "cell_type": "code",
   "execution_count": 35,
   "metadata": {},
   "outputs": [
    {
     "name": "stdout",
     "output_type": "stream",
     "text": [
      "Mario\n",
      "Pinto\n"
     ]
    }
   ],
   "source": [
    "d = {'nome': 'Mario', 'cognome': 'Pinto'}\n",
    "print(d['nome'])\n",
    "print(d['cognome'])"
   ]
  },
  {
   "cell_type": "markdown",
   "metadata": {},
   "source": [
    "Se si prova ad usare una _chiave mancante_ si ottiene un errore:"
   ]
  },
  {
   "cell_type": "code",
   "execution_count": 36,
   "metadata": {},
   "outputs": [
    {
     "ename": "KeyError",
     "evalue": "'età'",
     "output_type": "error",
     "traceback": [
      "\u001b[0;31m---------------------------------------------------------------------------\u001b[0m",
      "\u001b[0;31mKeyError\u001b[0m                                  Traceback (most recent call last)",
      "Cell \u001b[0;32mIn[36], line 1\u001b[0m\n\u001b[0;32m----> 1\u001b[0m \u001b[43md\u001b[49m\u001b[43m[\u001b[49m\u001b[38;5;124;43m'\u001b[39;49m\u001b[38;5;124;43metà\u001b[39;49m\u001b[38;5;124;43m'\u001b[39;49m\u001b[43m]\u001b[49m\n",
      "\u001b[0;31mKeyError\u001b[0m: 'età'"
     ]
    }
   ],
   "source": [
    "d['età']"
   ]
  },
  {
   "cell_type": "markdown",
   "metadata": {
    "slideshow": {
     "slide_type": "subslide"
    }
   },
   "source": [
    "## Chiavi Valide\n",
    "\n",
    "**Non tutti i tipi di dato possono esse usati come chiavi**\n",
    "\n",
    "Tendenzialmente, qualuntue tipo di dato _immutabile_ è valido\n",
    "\n",
    "* Per esempio si possono usare i _tipi di dato semplici_"
   ]
  },
  {
   "cell_type": "code",
   "execution_count": 37,
   "metadata": {},
   "outputs": [
    {
     "data": {
      "text/plain": [
       "{1: 'tizio', 1.3: 'caio', 3: 'sempronio', '4': 'Franco'}"
      ]
     },
     "execution_count": 37,
     "metadata": {},
     "output_type": "execute_result"
    }
   ],
   "source": [
    "d = {1: 'tizio', 1.3: 'caio', 3: 'sempronio', '4': 'Franco'}\n",
    "d"
   ]
  },
  {
   "cell_type": "markdown",
   "metadata": {},
   "source": [
    "* ...Oppure le _tuple_"
   ]
  },
  {
   "cell_type": "code",
   "execution_count": 38,
   "metadata": {},
   "outputs": [
    {
     "data": {
      "text/plain": [
       "{(0, 1): 1.3, (0, 2): 4.1, (1, 2): 2.2}"
      ]
     },
     "execution_count": 38,
     "metadata": {},
     "output_type": "execute_result"
    }
   ],
   "source": [
    "distanze = {(0, 1): 1.3, (0, 2): 4.1, (1, 2): 2.2}\n",
    "distanze"
   ]
  },
  {
   "cell_type": "markdown",
   "metadata": {},
   "source": [
    "* Si può sfruttare questa proprietà per memorizzare matrici \"sparse\"\n",
    "* ...Ossia in cui la maggior parte delle celle vale 0 o non è definita"
   ]
  },
  {
   "cell_type": "markdown",
   "metadata": {
    "slideshow": {
     "slide_type": "subslide"
    }
   },
   "source": [
    "## Accesso a Dizionari\n",
    "\n",
    "**È possibile sia _ottenere_ che _assegnare_ valori**\n",
    "\n",
    "...Esattamente come per le liste\n",
    "\n",
    "* Se l'indizzazione appare al di fuori di un assegnamento, o a dx del segno \"`=`\"\n",
    "* Allora l'accesso è una espressione e come tale denota un valore:"
   ]
  },
  {
   "cell_type": "code",
   "execution_count": 39,
   "metadata": {},
   "outputs": [
    {
     "name": "stdout",
     "output_type": "stream",
     "text": [
      "Mario Pinto\n"
     ]
    }
   ],
   "source": [
    "d = {'nome': 'Mario', 'cognome': 'Pinto'}\n",
    "print(d['nome'] + ' ' + d['cognome'])"
   ]
  },
  {
   "cell_type": "markdown",
   "metadata": {},
   "source": [
    "* Se l'indicizzazione appare a sx del segno \"`=`\", indica la cella in cui scrivere"
   ]
  },
  {
   "cell_type": "code",
   "execution_count": 40,
   "metadata": {},
   "outputs": [
    {
     "name": "stdout",
     "output_type": "stream",
     "text": [
      "Vario Pinto\n"
     ]
    }
   ],
   "source": [
    "d['nome'] = 'Vario'\n",
    "print(d['nome'] + ' ' + d['cognome'])"
   ]
  },
  {
   "cell_type": "markdown",
   "metadata": {
    "slideshow": {
     "slide_type": "subslide"
    }
   },
   "source": [
    "## Accesso a Dizionari\n",
    "\n",
    "**Quando si assegna un valore ad un elemento**\n",
    "\n",
    "* ...Se la chiave usata per l'accesso non esiste, questa viene creata\n",
    "* Quindi l'assegnamento procede come al solito"
   ]
  },
  {
   "cell_type": "code",
   "execution_count": 41,
   "metadata": {},
   "outputs": [
    {
     "name": "stdout",
     "output_type": "stream",
     "text": [
      "{'nome': 'Mario', 'cognome': 'Pinto', 'età': 34}\n"
     ]
    }
   ],
   "source": [
    "d = {'nome': 'Mario', 'cognome': 'Pinto'}\n",
    "d['età'] = 34\n",
    "print(d)"
   ]
  },
  {
   "cell_type": "markdown",
   "metadata": {},
   "source": [
    "* In questo modo è possibile aggiungere valori al dizionario\n",
    "\n",
    "**È possibile rimuovere valori da un dizionario**\n",
    "\n",
    "* Si può usare l'instruzione \"`del`\", come per le liste\n",
    "* ...E come per le liste, è meglio evitare di farlo"
   ]
  },
  {
   "cell_type": "markdown",
   "metadata": {
    "slideshow": {
     "slide_type": "subslide"
    }
   },
   "source": [
    "## Operazioni su Dizionari\n",
    "\n",
    "**Anche per i dizionari sono disponibili alcuni operatori specifici**"
   ]
  },
  {
   "cell_type": "code",
   "execution_count": 42,
   "metadata": {},
   "outputs": [
    {
     "name": "stdout",
     "output_type": "stream",
     "text": [
      "d1 | d2: {'nome': 'Vario', 'voto': 27, 'età': 20}\n",
      "d2 | d1: {'nome': 'Mario', 'età': 20, 'voto': 27}\n"
     ]
    }
   ],
   "source": [
    "d1, d2 = {'nome': 'Mario', 'voto': 27}, {'nome': 'Vario', 'età': 20}\n",
    "print('d1 | d2:', d1 | d2)\n",
    "print('d2 | d1:', d2 | d1)"
   ]
  },
  {
   "cell_type": "markdown",
   "metadata": {},
   "source": [
    "* L'operatore \"`|`\" unisce due dizionari\n",
    "* Se ci sono chiavi identiche nei due, prevale il valore del _secondo_ dizionario\n",
    "\n",
    "**L'operatore \"`in`\" si applica _alle chiavi_**"
   ]
  },
  {
   "cell_type": "code",
   "execution_count": 43,
   "metadata": {},
   "outputs": [
    {
     "name": "stdout",
     "output_type": "stream",
     "text": [
      "'nome' in d1: True\n",
      "'Mario' in d1: False\n"
     ]
    }
   ],
   "source": [
    "d1 = {'nome': 'Mario', 'voto': 27}\n",
    "print(\"'nome' in d1:\", 'nome' in d1)\n",
    "print(\"'Mario' in d1:\", 'Mario' in d1)"
   ]
  }
 ],
 "metadata": {
  "celltoolbar": "Slideshow",
  "kernelspec": {
   "display_name": "Python 3 (ipykernel)",
   "language": "python",
   "name": "python3"
  },
  "language_info": {
   "codemirror_mode": {
    "name": "ipython",
    "version": 3
   },
   "file_extension": ".py",
   "mimetype": "text/x-python",
   "name": "python",
   "nbconvert_exporter": "python",
   "pygments_lexer": "ipython3",
   "version": "3.11.11"
  },
  "rise": {
   "center": false,
   "enable_chalkboard": true,
   "transition": "fade"
  }
 },
 "nbformat": 4,
 "nbformat_minor": 4
}
