{
 "cells": [
  {
   "cell_type": "markdown",
   "metadata": {
    "slideshow": {
     "slide_type": "slide"
    }
   },
   "source": [
    "# Esercizi con gli Insiemi"
   ]
  },
  {
   "cell_type": "markdown",
   "metadata": {
    "slideshow": {
     "slide_type": "subslide"
    }
   },
   "source": [
    "## Esercizi con gli Insiemi\n",
    "\n",
    "**Facciamo un po' di pratica con gli insiemi**\n",
    "\n",
    "A partire dagli insiemi $S_1$, $S_2$ ed $S_3$, calcolare e stampare:\n",
    "\n",
    "* $S_1 \\cup S_2 \\cup S_3$\n",
    "* $S_1 \\cap S_2 \\cap S_3$\n",
    "* $(S_1 \\cap S_2) \\cup S_3$"
   ]
  },
  {
   "cell_type": "code",
   "execution_count": 1,
   "metadata": {},
   "outputs": [],
   "source": [
    "s1, s2, s3 = {1, 2, 3}, {2, 3, 4}, {3, 4, 5}"
   ]
  },
  {
   "cell_type": "markdown",
   "metadata": {
    "slideshow": {
     "slide_type": "subslide"
    }
   },
   "source": [
    "## Esercizi con gli Insiemi\n",
    "\n",
    "**Facciamo un po' di pratica con gli insiemi**\n",
    "\n",
    "A partire dagli insiemi $S_1$, $S_2$ ed $S_3$, calcolare e stampare:\n",
    "\n",
    "* $(S_1 \\setminus S_2) \\setminus S_3$\n",
    "* $(S_1 \\setminus S_2) \\cup (S_2 \\setminus S_1)$"
   ]
  },
  {
   "cell_type": "code",
   "execution_count": 2,
   "metadata": {},
   "outputs": [],
   "source": [
    "s1, s2, s3 = {1, 2, 3}, {2, 3, 4}, {3, 4, 5}"
   ]
  }
 ],
 "metadata": {
  "celltoolbar": "Slideshow",
  "kernelspec": {
   "display_name": "Python 3 (ipykernel)",
   "language": "python",
   "name": "python3"
  },
  "language_info": {
   "codemirror_mode": {
    "name": "ipython",
    "version": 3
   },
   "file_extension": ".py",
   "mimetype": "text/x-python",
   "name": "python",
   "nbconvert_exporter": "python",
   "pygments_lexer": "ipython3",
   "version": "3.11.11"
  },
  "rise": {
   "center": false,
   "enable_chalkboard": true,
   "transition": "fade"
  }
 },
 "nbformat": 4,
 "nbformat_minor": 4
}
